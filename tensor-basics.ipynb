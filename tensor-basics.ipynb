{
 "cells": [
  {
   "cell_type": "code",
   "execution_count": 1,
   "metadata": {},
   "outputs": [],
   "source": [
    "import torch"
   ]
  },
  {
   "cell_type": "code",
   "execution_count": 2,
   "metadata": {},
   "outputs": [
    {
     "data": {
      "text/plain": [
       "tensor([[[ 0.0000e+00, -3.6893e+19],\n",
       "         [ 2.6197e-28, -2.5244e-29]],\n",
       "\n",
       "        [[ 1.1210e-44, -0.0000e+00],\n",
       "         [ 0.0000e+00,  0.0000e+00]]])"
      ]
     },
     "execution_count": 2,
     "metadata": {},
     "output_type": "execute_result"
    }
   ],
   "source": [
    "torch.empty(2,2,2)"
   ]
  },
  {
   "cell_type": "code",
   "execution_count": 3,
   "metadata": {},
   "outputs": [
    {
     "data": {
      "text/plain": [
       "tensor([[[0., 0.],\n",
       "         [0., 0.]],\n",
       "\n",
       "        [[0., 0.],\n",
       "         [0., 0.]]])"
      ]
     },
     "execution_count": 3,
     "metadata": {},
     "output_type": "execute_result"
    }
   ],
   "source": [
    "torch.zeros(2,2,2)"
   ]
  },
  {
   "cell_type": "code",
   "execution_count": 10,
   "metadata": {},
   "outputs": [
    {
     "name": "stdout",
     "output_type": "stream",
     "text": [
      "tensor([[[1, 1],\n",
      "         [1, 1]],\n",
      "\n",
      "        [[1, 1],\n",
      "         [1, 1]]])\n"
     ]
    }
   ],
   "source": [
    "x = torch.ones(2,2,2,dtype=int)\n",
    "print(x)"
   ]
  },
  {
   "cell_type": "code",
   "execution_count": 9,
   "metadata": {},
   "outputs": [
    {
     "data": {
      "text/plain": [
       "torch.int64"
      ]
     },
     "execution_count": 9,
     "metadata": {},
     "output_type": "execute_result"
    }
   ],
   "source": [
    "x.dtype"
   ]
  },
  {
   "cell_type": "code",
   "execution_count": 13,
   "metadata": {},
   "outputs": [
    {
     "name": "stdout",
     "output_type": "stream",
     "text": [
      "torch.Size([2, 2, 2])\n"
     ]
    }
   ],
   "source": [
    "print(x.size())"
   ]
  },
  {
   "cell_type": "code",
   "execution_count": 15,
   "metadata": {},
   "outputs": [
    {
     "name": "stdout",
     "output_type": "stream",
     "text": [
      "tensor([[0.0500, 0.3172],\n",
      "        [0.0319, 0.2775]])\n",
      "tensor([[0.0500, 0.3172],\n",
      "        [0.0319, 0.2775]])\n"
     ]
    }
   ],
   "source": [
    "x = torch.rand(2,2)\n",
    "y = torch.rand(2,2)\n",
    "\n",
    "z = x * y\n",
    "z = torch.mul(x,y)\n",
    "print(z)\n",
    "y.mul_(x)\n",
    "print(y)"
   ]
  },
  {
   "cell_type": "code",
   "execution_count": 16,
   "metadata": {},
   "outputs": [],
   "source": [
    "x= torch.rand(5,3)"
   ]
  },
  {
   "cell_type": "code",
   "execution_count": 18,
   "metadata": {},
   "outputs": [
    {
     "name": "stdout",
     "output_type": "stream",
     "text": [
      "tensor([[0.8109, 0.4357, 0.3077],\n",
      "        [0.5229, 0.7704, 0.7283],\n",
      "        [0.9493, 0.1477, 0.7331],\n",
      "        [0.1478, 0.7764, 0.9721],\n",
      "        [0.0191, 0.4106, 0.8789]])\n",
      "tensor([0.8109, 0.5229, 0.9493, 0.1478, 0.0191])\n",
      "tensor([0.8109, 0.4357, 0.3077])\n"
     ]
    }
   ],
   "source": [
    "print(x)\n",
    "print(x[:,0])\n",
    "print(x[0,:])"
   ]
  },
  {
   "cell_type": "code",
   "execution_count": 21,
   "metadata": {},
   "outputs": [
    {
     "name": "stdout",
     "output_type": "stream",
     "text": [
      "tensor(0.7331)\n",
      "0.7331138849258423\n"
     ]
    }
   ],
   "source": [
    "print(x[2,2])\n",
    "print(x[2,2].item())"
   ]
  },
  {
   "cell_type": "code",
   "execution_count": 22,
   "metadata": {},
   "outputs": [
    {
     "name": "stdout",
     "output_type": "stream",
     "text": [
      "tensor([[0.6336, 0.7467, 0.8733, 0.8523],\n",
      "        [0.8726, 0.8291, 0.3352, 0.0140],\n",
      "        [0.6473, 0.3546, 0.7084, 0.0819],\n",
      "        [0.4958, 0.0010, 0.3825, 0.4415]])\n",
      "tensor([0.6336, 0.7467, 0.8733, 0.8523, 0.8726, 0.8291, 0.3352, 0.0140, 0.6473,\n",
      "        0.3546, 0.7084, 0.0819, 0.4958, 0.0010, 0.3825, 0.4415])\n"
     ]
    }
   ],
   "source": [
    "x = torch.rand(4,4)\n",
    "print(x)\n",
    "\n",
    "print(x.view(16))"
   ]
  },
  {
   "cell_type": "code",
   "execution_count": null,
   "metadata": {},
   "outputs": [],
   "source": []
  }
 ],
 "metadata": {
  "kernelspec": {
   "display_name": "Python 3.8.13 ('mlp')",
   "language": "python",
   "name": "python3"
  },
  "language_info": {
   "codemirror_mode": {
    "name": "ipython",
    "version": 3
   },
   "file_extension": ".py",
   "mimetype": "text/x-python",
   "name": "python",
   "nbconvert_exporter": "python",
   "pygments_lexer": "ipython3",
   "version": "3.8.13"
  },
  "orig_nbformat": 4,
  "vscode": {
   "interpreter": {
    "hash": "0627fea0f97f43b53f5346237577079e3d9cd974105c687d6d3fd557da6bd9e2"
   }
  }
 },
 "nbformat": 4,
 "nbformat_minor": 2
}
